{
 "cells": [
  {
   "cell_type": "code",
   "execution_count": 2,
   "id": "dd0ad632",
   "metadata": {},
   "outputs": [],
   "source": [
    "import pandas as pd"
   ]
  },
  {
   "cell_type": "code",
   "execution_count": 7,
   "id": "e5600081",
   "metadata": {},
   "outputs": [],
   "source": [
    "df = pd.read_csv(\"results/table_of_results.csv\")"
   ]
  },
  {
   "cell_type": "code",
   "execution_count": 15,
   "id": "40a92d37",
   "metadata": {},
   "outputs": [
    {
     "data": {
      "text/html": [
       "<div>\n",
       "<style scoped>\n",
       "    .dataframe tbody tr th:only-of-type {\n",
       "        vertical-align: middle;\n",
       "    }\n",
       "\n",
       "    .dataframe tbody tr th {\n",
       "        vertical-align: top;\n",
       "    }\n",
       "\n",
       "    .dataframe thead th {\n",
       "        text-align: right;\n",
       "    }\n",
       "</style>\n",
       "<table border=\"1\" class=\"dataframe\">\n",
       "  <thead>\n",
       "    <tr style=\"text-align: right;\">\n",
       "      <th></th>\n",
       "      <th>16x16</th>\n",
       "      <th>32x32</th>\n",
       "      <th>64x64</th>\n",
       "      <th>128x128</th>\n",
       "      <th>256x256</th>\n",
       "      <th>512x512</th>\n",
       "      <th>1024x1024</th>\n",
       "    </tr>\n",
       "    <tr>\n",
       "      <th>Method</th>\n",
       "      <th></th>\n",
       "      <th></th>\n",
       "      <th></th>\n",
       "      <th></th>\n",
       "      <th></th>\n",
       "      <th></th>\n",
       "      <th></th>\n",
       "    </tr>\n",
       "  </thead>\n",
       "  <tbody>\n",
       "    <tr>\n",
       "      <th>python</th>\n",
       "      <td>0.03107</td>\n",
       "      <td>0.012668</td>\n",
       "      <td>0.006710</td>\n",
       "      <td>0.005442</td>\n",
       "      <td>0.005602</td>\n",
       "      <td>0.006120</td>\n",
       "      <td>0.006024</td>\n",
       "    </tr>\n",
       "    <tr>\n",
       "      <th>asm</th>\n",
       "      <td>2.78562</td>\n",
       "      <td>1.349248</td>\n",
       "      <td>0.761365</td>\n",
       "      <td>0.628512</td>\n",
       "      <td>0.622103</td>\n",
       "      <td>0.702570</td>\n",
       "      <td>0.704819</td>\n",
       "    </tr>\n",
       "    <tr>\n",
       "      <th>c</th>\n",
       "      <td>3.71749</td>\n",
       "      <td>1.700943</td>\n",
       "      <td>0.916147</td>\n",
       "      <td>0.704880</td>\n",
       "      <td>0.665903</td>\n",
       "      <td>0.746634</td>\n",
       "      <td>0.849398</td>\n",
       "    </tr>\n",
       "    <tr>\n",
       "      <th>asm_simd</th>\n",
       "      <td>2.64856</td>\n",
       "      <td>1.364813</td>\n",
       "      <td>0.807231</td>\n",
       "      <td>0.677019</td>\n",
       "      <td>0.670486</td>\n",
       "      <td>0.769890</td>\n",
       "      <td>0.861446</td>\n",
       "    </tr>\n",
       "    <tr>\n",
       "      <th>c_avx</th>\n",
       "      <td>4.48593</td>\n",
       "      <td>1.900077</td>\n",
       "      <td>1.021052</td>\n",
       "      <td>0.800592</td>\n",
       "      <td>0.755539</td>\n",
       "      <td>0.832313</td>\n",
       "      <td>0.945783</td>\n",
       "    </tr>\n",
       "    <tr>\n",
       "      <th>numpy</th>\n",
       "      <td>1.00000</td>\n",
       "      <td>1.000000</td>\n",
       "      <td>1.000000</td>\n",
       "      <td>1.000000</td>\n",
       "      <td>1.000000</td>\n",
       "      <td>1.000000</td>\n",
       "      <td>1.000000</td>\n",
       "    </tr>\n",
       "  </tbody>\n",
       "</table>\n",
       "</div>"
      ],
      "text/plain": [
       "            16x16     32x32     64x64   128x128   256x256   512x512  1024x1024\n",
       "Method                                                                        \n",
       "python    0.03107  0.012668  0.006710  0.005442  0.005602  0.006120   0.006024\n",
       "asm       2.78562  1.349248  0.761365  0.628512  0.622103  0.702570   0.704819\n",
       "c         3.71749  1.700943  0.916147  0.704880  0.665903  0.746634   0.849398\n",
       "asm_simd  2.64856  1.364813  0.807231  0.677019  0.670486  0.769890   0.861446\n",
       "c_avx     4.48593  1.900077  1.021052  0.800592  0.755539  0.832313   0.945783\n",
       "numpy     1.00000  1.000000  1.000000  1.000000  1.000000  1.000000   1.000000"
      ]
     },
     "execution_count": 15,
     "metadata": {},
     "output_type": "execute_result"
    }
   ],
   "source": [
    "df.set_index(\"Method\").div(df.set_index(\"Method\").loc[\"numpy\"])"
   ]
  },
  {
   "cell_type": "code",
   "execution_count": 14,
   "id": "f0d7b9cc",
   "metadata": {},
   "outputs": [
    {
     "data": {
      "text/plain": [
       "Method\n",
       "python      0.010520\n",
       "asm         1.079177\n",
       "c           1.328771\n",
       "asm_simd    1.114207\n",
       "c_avx       1.534469\n",
       "numpy       1.000000\n",
       "dtype: float64"
      ]
     },
     "execution_count": 14,
     "metadata": {},
     "output_type": "execute_result"
    }
   ],
   "source": [
    "df.set_index(\"Method\").div(df.set_index(\"Method\").loc[\"numpy\"]).T.mean()"
   ]
  }
 ],
 "metadata": {
  "kernelspec": {
   "display_name": ".venv",
   "language": "python",
   "name": "python3"
  },
  "language_info": {
   "codemirror_mode": {
    "name": "ipython",
    "version": 3
   },
   "file_extension": ".py",
   "mimetype": "text/x-python",
   "name": "python",
   "nbconvert_exporter": "python",
   "pygments_lexer": "ipython3",
   "version": "3.11.12"
  }
 },
 "nbformat": 4,
 "nbformat_minor": 5
}
